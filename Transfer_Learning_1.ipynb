{
 "cells": [
  {
   "cell_type": "code",
   "execution_count": 1,
   "metadata": {
    "id": "YTPhdPmN9Ihx"
   },
   "outputs": [],
   "source": [
    "import numpy as np\n",
    "import tensorflow as tf\n",
    "from tensorflow import keras\n"
   ]
  },
  {
   "cell_type": "code",
   "execution_count": 2,
   "metadata": {
    "id": "yU73lVSf9yXx"
   },
   "outputs": [],
   "source": [
    "from keras.applications.vgg16 import VGG16, preprocess_input,decode_predictions"
   ]
  },
  {
   "cell_type": "code",
   "execution_count": 3,
   "metadata": {
    "id": "Taqeocp8-Ef0"
   },
   "outputs": [],
   "source": [
    "from keras.preprocessing import image\n"
   ]
  },
  {
   "cell_type": "code",
   "execution_count": 4,
   "metadata": {
    "id": "izscViRz-xGc"
   },
   "outputs": [],
   "source": [
    "classifier = VGG16()"
   ]
  },
  {
   "cell_type": "code",
   "execution_count": 5,
   "metadata": {
    "colab": {
     "base_uri": "https://localhost:8080/"
    },
    "id": "66gEgoj3_QFZ",
    "outputId": "e47f5c0d-6faf-42ce-c6f4-ea804ceb6bf1"
   },
   "outputs": [
    {
     "name": "stdout",
     "output_type": "stream",
     "text": [
      "Model: \"vgg16\"\n",
      "_________________________________________________________________\n",
      " Layer (type)                Output Shape              Param #   \n",
      "=================================================================\n",
      " input_1 (InputLayer)        [(None, 224, 224, 3)]     0         \n",
      "                                                                 \n",
      " block1_conv1 (Conv2D)       (None, 224, 224, 64)      1792      \n",
      "                                                                 \n",
      " block1_conv2 (Conv2D)       (None, 224, 224, 64)      36928     \n",
      "                                                                 \n",
      " block1_pool (MaxPooling2D)  (None, 112, 112, 64)      0         \n",
      "                                                                 \n",
      " block2_conv1 (Conv2D)       (None, 112, 112, 128)     73856     \n",
      "                                                                 \n",
      " block2_conv2 (Conv2D)       (None, 112, 112, 128)     147584    \n",
      "                                                                 \n",
      " block2_pool (MaxPooling2D)  (None, 56, 56, 128)       0         \n",
      "                                                                 \n",
      " block3_conv1 (Conv2D)       (None, 56, 56, 256)       295168    \n",
      "                                                                 \n",
      " block3_conv2 (Conv2D)       (None, 56, 56, 256)       590080    \n",
      "                                                                 \n",
      " block3_conv3 (Conv2D)       (None, 56, 56, 256)       590080    \n",
      "                                                                 \n",
      " block3_pool (MaxPooling2D)  (None, 28, 28, 256)       0         \n",
      "                                                                 \n",
      " block4_conv1 (Conv2D)       (None, 28, 28, 512)       1180160   \n",
      "                                                                 \n",
      " block4_conv2 (Conv2D)       (None, 28, 28, 512)       2359808   \n",
      "                                                                 \n",
      " block4_conv3 (Conv2D)       (None, 28, 28, 512)       2359808   \n",
      "                                                                 \n",
      " block4_pool (MaxPooling2D)  (None, 14, 14, 512)       0         \n",
      "                                                                 \n",
      " block5_conv1 (Conv2D)       (None, 14, 14, 512)       2359808   \n",
      "                                                                 \n",
      " block5_conv2 (Conv2D)       (None, 14, 14, 512)       2359808   \n",
      "                                                                 \n",
      " block5_conv3 (Conv2D)       (None, 14, 14, 512)       2359808   \n",
      "                                                                 \n",
      " block5_pool (MaxPooling2D)  (None, 7, 7, 512)         0         \n",
      "                                                                 \n",
      " flatten (Flatten)           (None, 25088)             0         \n",
      "                                                                 \n",
      " fc1 (Dense)                 (None, 4096)              102764544 \n",
      "                                                                 \n",
      " fc2 (Dense)                 (None, 4096)              16781312  \n",
      "                                                                 \n",
      " predictions (Dense)         (None, 1000)              4097000   \n",
      "                                                                 \n",
      "=================================================================\n",
      "Total params: 138,357,544\n",
      "Trainable params: 138,357,544\n",
      "Non-trainable params: 0\n",
      "_________________________________________________________________\n"
     ]
    }
   ],
   "source": [
    "classifier.summary()"
   ]
  },
  {
   "cell_type": "code",
   "execution_count": 6,
   "metadata": {
    "colab": {
     "base_uri": "https://localhost:8080/",
     "height": 241
    },
    "id": "t8qLjQUX_YZA",
    "outputId": "f4630f4d-4432-48aa-b013-32f3d9a8a5b6"
   },
   "outputs": [
    {
     "data": {
      "image/png": "[encoded data removed]",
      "text/plain": [
       "<PIL.Image.Image image mode=RGB size=224x224>"
      ]
     },
     "execution_count": 6,
     "metadata": {},
     "output_type": "execute_result"
    }
   ],
   "source": [
    "# Load a New Image & Classify the image :\n",
    "new_img = image.image_utils.load_img(\"./test_data/ai-image-generator-two.webp\",target_size=(224,224))\n",
    "new_img"
   ]
  },
  {
   "cell_type": "code",
   "execution_count": 7,
   "metadata": {
    "colab": {
     "base_uri": "https://localhost:8080/"
    },
    "id": "hV3Vp1Fx_vmO",
    "outputId": "f78cfcfa-dcbd-43a1-ceab-3de5e68eb1da"
   },
   "outputs": [
    {
     "data": {
      "text/plain": [
       "(224, 224, 3)"
      ]
     },
     "execution_count": 7,
     "metadata": {},
     "output_type": "execute_result"
    }
   ],
   "source": [
    "# changing the image to array for processing the image:\n",
    "transform_img = image.image_utils.img_to_array(new_img)\n",
    "transform_img.shape"
   ]
  },
  {
   "cell_type": "code",
   "execution_count": 8,
   "metadata": {
    "id": "ZuUx9_RwBEPA"
   },
   "outputs": [],
   "source": [
    "# For VGG16 to work with images for further processing it should be 4 dimensional : Expand the dimension of the image"
   ]
  },
  {
   "cell_type": "code",
   "execution_count": 9,
   "metadata": {
    "colab": {
     "base_uri": "https://localhost:8080/"
    },
    "id": "iz57mq1UBbck",
    "outputId": "31f85f60-8ad6-404b-e257-fde1bed12505"
   },
   "outputs": [
    {
     "data": {
      "text/plain": [
       "(1, 224, 224, 3)"
      ]
     },
     "execution_count": 9,
     "metadata": {},
     "output_type": "execute_result"
    }
   ],
   "source": [
    "expand_dim_img = np.expand_dims(transform_img,axis=0)\n",
    "expand_dim_img.shape"
   ]
  },
  {
   "cell_type": "code",
   "execution_count": 10,
   "metadata": {
    "colab": {
     "base_uri": "https://localhost:8080/"
    },
    "id": "RpC49qIIB1s3",
    "outputId": "3426201f-daea-42d6-ebd7-738b2267608d"
   },
   "outputs": [
    {
     "data": {
      "text/plain": [
       "array([[[[-72.939   , -69.779   , -76.68    ],\n",
       "         [-72.939   , -69.779   , -76.68    ],\n",
       "         [-72.939   , -69.779   , -76.68    ],\n",
       "         ...,\n",
       "         [-74.939   , -70.779   , -73.68    ],\n",
       "         [-75.939   , -70.779   , -76.68    ],\n",
       "         [-75.939   , -70.779   , -76.68    ]],\n",
       "\n",
       "        [[-72.939   , -69.779   , -76.68    ],\n",
       "         [-72.939   , -69.779   , -76.68    ],\n",
       "         [-72.939   , -69.779   , -76.68    ],\n",
       "         ...,\n",
       "         [-74.939   , -70.779   , -73.68    ],\n",
       "         [-74.939   , -69.779   , -74.68    ],\n",
       "         [-74.939   , -69.779   , -74.68    ]],\n",
       "\n",
       "        [[-72.939   , -69.779   , -76.68    ],\n",
       "         [-72.939   , -69.779   , -76.68    ],\n",
       "         [-72.939   , -69.779   , -76.68    ],\n",
       "         ...,\n",
       "         [-74.939   , -70.779   , -73.68    ],\n",
       "         [-74.939   , -69.779   , -74.68    ],\n",
       "         [-74.939   , -69.779   , -74.68    ]],\n",
       "\n",
       "        ...,\n",
       "\n",
       "        [[-36.939003,  12.221001,  45.32    ],\n",
       "         [-36.939003,  12.221001,  45.32    ],\n",
       "         [-36.939003,  12.221001,  45.32    ],\n",
       "         ...,\n",
       "         [-29.939003,  23.221   ,  63.32    ],\n",
       "         [-29.939003,  24.221   ,  61.32    ],\n",
       "         [-32.939003,  21.221   ,  58.32    ]],\n",
       "\n",
       "        [[-33.939003,  14.221001,  47.32    ],\n",
       "         [-33.939003,  14.221001,  47.32    ],\n",
       "         [-33.939003,  14.221001,  47.32    ],\n",
       "         ...,\n",
       "         [-29.939003,  23.221   ,  63.32    ],\n",
       "         [-31.939003,  22.221   ,  59.32    ],\n",
       "         [-34.939003,  20.221   ,  56.32    ]],\n",
       "\n",
       "        [[-35.939003,  13.221001,  46.32    ],\n",
       "         [-35.939003,  13.221001,  46.32    ],\n",
       "         [-35.939003,  13.221001,  46.32    ],\n",
       "         ...,\n",
       "         [-29.939003,  23.221   ,  63.32    ],\n",
       "         [-30.939003,  23.221   ,  60.32    ],\n",
       "         [-30.939003,  23.221   ,  60.32    ]]]], dtype=float32)"
      ]
     },
     "execution_count": 10,
     "metadata": {},
     "output_type": "execute_result"
    }
   ],
   "source": [
    "# Process the image for VGG16 input :\n",
    "transformed_img = preprocess_input(expand_dim_img)\n",
    "transformed_img"
   ]
  },
  {
   "cell_type": "code",
   "execution_count": 11,
   "metadata": {
    "colab": {
     "base_uri": "https://localhost:8080/"
    },
    "id": "ww8boewZCewh",
    "outputId": "b7e367ad-5ad2-41a6-b2ec-c62f3af835d1"
   },
   "outputs": [
    {
     "name": "stdout",
     "output_type": "stream",
     "text": [
      "1/1 [==============================] - 1s 554ms/step\n"
     ]
    }
   ],
   "source": [
    "# Y predict :\n",
    "y_predict = classifier.predict(transformed_img)\n"
   ]
  },
  {
   "cell_type": "code",
   "execution_count": 12,
   "metadata": {
    "colab": {
     "base_uri": "https://localhost:8080/"
    },
    "id": "sIn1nnV9FFwB",
    "outputId": "573950ba-205c-4f56-9462-674f888ce6b1"
   },
   "outputs": [
    {
     "data": {
      "text/plain": [
       "(1, 1000)"
      ]
     },
     "execution_count": 12,
     "metadata": {},
     "output_type": "execute_result"
    }
   ],
   "source": [
    "y_predict.shape"
   ]
  },
  {
   "cell_type": "code",
   "execution_count": 13,
   "metadata": {
    "id": "hpSz6zHrHFFV"
   },
   "outputs": [],
   "source": [
    "decode_predict = decode_predictions(y_predict,top=10)"
   ]
  },
  {
   "cell_type": "code",
   "execution_count": 14,
   "metadata": {
    "colab": {
     "base_uri": "https://localhost:8080/"
    },
    "id": "Stl-UWlXHupQ",
    "outputId": "c31fc6f6-0777-4387-bcf2-99742eb462fb"
   },
   "outputs": [
    {
     "data": {
      "text/plain": [
       "[[('n02119022', 'red_fox', 0.15465926),\n",
       "  ('n01833805', 'hummingbird', 0.0479999),\n",
       "  ('n02124075', 'Egyptian_cat', 0.045222852),\n",
       "  ('n02120505', 'grey_fox', 0.032008406),\n",
       "  ('n02119789', 'kit_fox', 0.030429492),\n",
       "  ('n03944341', 'pinwheel', 0.029510748),\n",
       "  ('n04380533', 'table_lamp', 0.02827392),\n",
       "  ('n02883205', 'bow_tie', 0.025197206),\n",
       "  ('n03598930', 'jigsaw_puzzle', 0.023780547),\n",
       "  ('n03908714', 'pencil_sharpener', 0.022764463)]]"
      ]
     },
     "execution_count": 14,
     "metadata": {},
     "output_type": "execute_result"
    }
   ],
   "source": [
    "decode_predict"
   ]
  },
  {
   "cell_type": "code",
   "execution_count": 15,
   "metadata": {
    "id": "uhwopuIZHxij"
   },
   "outputs": [],
   "source": [
    "decode_label = decode_predict[0][0]"
   ]
  },
  {
   "cell_type": "code",
   "execution_count": 16,
   "metadata": {
    "colab": {
     "base_uri": "https://localhost:8080/"
    },
    "id": "lnMuYcAhIM1I",
    "outputId": "787bbf7f-1a3a-44d1-a004-a33a9eaa7f5f"
   },
   "outputs": [
    {
     "name": "stdout",
     "output_type": "stream",
     "text": [
      "Prediction - \n",
      " Label = red_fox : 15.465926%.\n"
     ]
    }
   ],
   "source": [
    "print(f\"Prediction - \\n Label = {decode_label[1]} : {(decode_label[2]*100):1f}%.\")"
   ]
  },
  {
   "cell_type": "code",
   "execution_count": 17,
   "metadata": {
    "id": "CLIMBRZHIvQY"
   },
   "outputs": [],
   "source": [
    "# Initialize a user denfine model :\n",
    "from keras.models import Sequential\n",
    "from keras.layers import Dense, Conv2D, MaxPool2D, Flatten\n"
   ]
  },
  {
   "cell_type": "code",
   "execution_count": 18,
   "metadata": {},
   "outputs": [],
   "source": [
    "seed = 42\n",
    "np.random.seed(seed)\n",
    "tf.random.set_seed(seed)"
   ]
  },
  {
   "cell_type": "code",
   "execution_count": 19,
   "metadata": {
    "id": "mxknXi6jL2LU"
   },
   "outputs": [],
   "source": [
    "model_user = Sequential()"
   ]
  },
  {
   "cell_type": "code",
   "execution_count": 20,
   "metadata": {
    "colab": {
     "base_uri": "https://localhost:8080/"
    },
    "id": "YohoExYuMcmg",
    "outputId": "ebf6df20-0d07-44af-f4e9-4a2e9ddd11a3"
   },
   "outputs": [
    {
     "name": "stdout",
     "output_type": "stream",
     "text": [
      "input_1\n",
      "block1_conv1\n",
      "block1_conv2\n",
      "block1_pool\n",
      "block2_conv1\n",
      "block2_conv2\n",
      "block2_pool\n",
      "block3_conv1\n",
      "block3_conv2\n",
      "block3_conv3\n",
      "block3_pool\n",
      "block4_conv1\n",
      "block4_conv2\n",
      "block4_conv3\n",
      "block4_pool\n",
      "block5_conv1\n",
      "block5_conv2\n",
      "block5_conv3\n",
      "block5_pool\n",
      "flatten\n",
      "fc1\n",
      "fc2\n",
      "predictions\n"
     ]
    }
   ],
   "source": [
    "# Interate all layers of the VGG16 model :\n",
    "# classifier.layers[-1].name\n",
    "\n",
    "\n",
    "for i in classifier.layers:\n",
    "  print(i.name)"
   ]
  },
  {
   "cell_type": "code",
   "execution_count": 21,
   "metadata": {
    "colab": {
     "base_uri": "https://localhost:8080/"
    },
    "id": "Zdw0a20eNBAp",
    "outputId": "e076bfc2-7d14-40fd-b735-5e7878ef3157"
   },
   "outputs": [
    {
     "name": "stdout",
     "output_type": "stream",
     "text": [
      "input_1\n",
      "block1_conv1\n",
      "block1_conv2\n",
      "block1_pool\n",
      "block2_conv1\n",
      "block2_conv2\n",
      "block2_pool\n",
      "block3_conv1\n",
      "block3_conv2\n",
      "block3_conv3\n",
      "block3_pool\n",
      "block4_conv1\n",
      "block4_conv2\n",
      "block4_conv3\n",
      "block4_pool\n",
      "block5_conv1\n",
      "block5_conv2\n",
      "block5_conv3\n",
      "block5_pool\n",
      "flatten\n",
      "fc1\n",
      "fc2\n"
     ]
    }
   ],
   "source": [
    "for layer in classifier.layers :\n",
    "  if layer !=  classifier.layers[-1] :\n",
    "    print(layer.name)\n",
    "    model_user.add(layer)"
   ]
  },
  {
   "cell_type": "code",
   "execution_count": 22,
   "metadata": {
    "colab": {
     "base_uri": "https://localhost:8080/",
     "height": 35
    },
    "id": "rMqUjgcIPpe-",
    "outputId": "da19b9aa-a0f3-4d5b-f178-74747c6ddc3c"
   },
   "outputs": [
    {
     "data": {
      "text/plain": [
       "'fc2'"
      ]
     },
     "execution_count": 22,
     "metadata": {},
     "output_type": "execute_result"
    }
   ],
   "source": [
    "model_user.layers[-1].name"
   ]
  },
  {
   "cell_type": "code",
   "execution_count": 23,
   "metadata": {
    "id": "pc3IqMGBRTTr"
   },
   "outputs": [],
   "source": [
    "# Freeze the layers of the new model using trainable parameter = False"
   ]
  },
  {
   "cell_type": "code",
   "execution_count": 24,
   "metadata": {
    "id": "ZwWPTPfrRvQt"
   },
   "outputs": [],
   "source": [
    "for layer in model_user.layers :\n",
    "  layer.trainable = False"
   ]
  },
  {
   "cell_type": "code",
   "execution_count": null,
   "metadata": {},
   "outputs": [],
   "source": []
  },
  {
   "cell_type": "code",
   "execution_count": 25,
   "metadata": {
    "colab": {
     "base_uri": "https://localhost:8080/"
    },
    "id": "H1YVbswmSTuF",
    "outputId": "c80589bc-59f1-4645-9496-7349c36cec64"
   },
   "outputs": [
    {
     "name": "stdout",
     "output_type": "stream",
     "text": [
      "Model: \"sequential\"\n",
      "_________________________________________________________________\n",
      " Layer (type)                Output Shape              Param #   \n",
      "=================================================================\n",
      " block1_conv1 (Conv2D)       (None, 224, 224, 64)      1792      \n",
      "                                                                 \n",
      " block1_conv2 (Conv2D)       (None, 224, 224, 64)      36928     \n",
      "                                                                 \n",
      " block1_pool (MaxPooling2D)  (None, 112, 112, 64)      0         \n",
      "                                                                 \n",
      " block2_conv1 (Conv2D)       (None, 112, 112, 128)     73856     \n",
      "                                                                 \n",
      " block2_conv2 (Conv2D)       (None, 112, 112, 128)     147584    \n",
      "                                                                 \n",
      " block2_pool (MaxPooling2D)  (None, 56, 56, 128)       0         \n",
      "                                                                 \n",
      " block3_conv1 (Conv2D)       (None, 56, 56, 256)       295168    \n",
      "                                                                 \n",
      " block3_conv2 (Conv2D)       (None, 56, 56, 256)       590080    \n",
      "                                                                 \n",
      " block3_conv3 (Conv2D)       (None, 56, 56, 256)       590080    \n",
      "                                                                 \n",
      " block3_pool (MaxPooling2D)  (None, 28, 28, 256)       0         \n",
      "                                                                 \n",
      " block4_conv1 (Conv2D)       (None, 28, 28, 512)       1180160   \n",
      "                                                                 \n",
      " block4_conv2 (Conv2D)       (None, 28, 28, 512)       2359808   \n",
      "                                                                 \n",
      " block4_conv3 (Conv2D)       (None, 28, 28, 512)       2359808   \n",
      "                                                                 \n",
      " block4_pool (MaxPooling2D)  (None, 14, 14, 512)       0         \n",
      "                                                                 \n",
      " block5_conv1 (Conv2D)       (None, 14, 14, 512)       2359808   \n",
      "                                                                 \n",
      " block5_conv2 (Conv2D)       (None, 14, 14, 512)       2359808   \n",
      "                                                                 \n",
      " block5_conv3 (Conv2D)       (None, 14, 14, 512)       2359808   \n",
      "                                                                 \n",
      " block5_pool (MaxPooling2D)  (None, 7, 7, 512)         0         \n",
      "                                                                 \n",
      " flatten (Flatten)           (None, 25088)             0         \n",
      "                                                                 \n",
      " fc1 (Dense)                 (None, 4096)              102764544 \n",
      "                                                                 \n",
      " fc2 (Dense)                 (None, 4096)              16781312  \n",
      "                                                                 \n",
      "=================================================================\n",
      "Total params: 134,260,544\n",
      "Trainable params: 0\n",
      "Non-trainable params: 134,260,544\n",
      "_________________________________________________________________\n"
     ]
    }
   ],
   "source": [
    "model_user.summary()"
   ]
  },
  {
   "cell_type": "code",
   "execution_count": 26,
   "metadata": {
    "id": "5gcmS7bSSbCO"
   },
   "outputs": [],
   "source": [
    "# Add one Dense layer of node = 1 & activation = \"Sigmoid\":\n"
   ]
  },
  {
   "cell_type": "code",
   "execution_count": 27,
   "metadata": {
    "id": "No0fa7BAS2RN"
   },
   "outputs": [],
   "source": [
    "model_user.add(Dense(units=1,activation='relu'))"
   ]
  },
  {
   "cell_type": "code",
   "execution_count": 28,
   "metadata": {
    "colab": {
     "base_uri": "https://localhost:8080/"
    },
    "id": "9Z7Jr5NqTPjV",
    "outputId": "028755df-2b0f-47a9-f422-16c6b40e4369"
   },
   "outputs": [
    {
     "name": "stdout",
     "output_type": "stream",
     "text": [
      "Model: \"sequential\"\n",
      "_________________________________________________________________\n",
      " Layer (type)                Output Shape              Param #   \n",
      "=================================================================\n",
      " block1_conv1 (Conv2D)       (None, 224, 224, 64)      1792      \n",
      "                                                                 \n",
      " block1_conv2 (Conv2D)       (None, 224, 224, 64)      36928     \n",
      "                                                                 \n",
      " block1_pool (MaxPooling2D)  (None, 112, 112, 64)      0         \n",
      "                                                                 \n",
      " block2_conv1 (Conv2D)       (None, 112, 112, 128)     73856     \n",
      "                                                                 \n",
      " block2_conv2 (Conv2D)       (None, 112, 112, 128)     147584    \n",
      "                                                                 \n",
      " block2_pool (MaxPooling2D)  (None, 56, 56, 128)       0         \n",
      "                                                                 \n",
      " block3_conv1 (Conv2D)       (None, 56, 56, 256)       295168    \n",
      "                                                                 \n",
      " block3_conv2 (Conv2D)       (None, 56, 56, 256)       590080    \n",
      "                                                                 \n",
      " block3_conv3 (Conv2D)       (None, 56, 56, 256)       590080    \n",
      "                                                                 \n",
      " block3_pool (MaxPooling2D)  (None, 28, 28, 256)       0         \n",
      "                                                                 \n",
      " block4_conv1 (Conv2D)       (None, 28, 28, 512)       1180160   \n",
      "                                                                 \n",
      " block4_conv2 (Conv2D)       (None, 28, 28, 512)       2359808   \n",
      "                                                                 \n",
      " block4_conv3 (Conv2D)       (None, 28, 28, 512)       2359808   \n",
      "                                                                 \n",
      " block4_pool (MaxPooling2D)  (None, 14, 14, 512)       0         \n",
      "                                                                 \n",
      " block5_conv1 (Conv2D)       (None, 14, 14, 512)       2359808   \n",
      "                                                                 \n",
      " block5_conv2 (Conv2D)       (None, 14, 14, 512)       2359808   \n",
      "                                                                 \n",
      " block5_conv3 (Conv2D)       (None, 14, 14, 512)       2359808   \n",
      "                                                                 \n",
      " block5_pool (MaxPooling2D)  (None, 7, 7, 512)         0         \n",
      "                                                                 \n",
      " flatten (Flatten)           (None, 25088)             0         \n",
      "                                                                 \n",
      " fc1 (Dense)                 (None, 4096)              102764544 \n",
      "                                                                 \n",
      " fc2 (Dense)                 (None, 4096)              16781312  \n",
      "                                                                 \n",
      " dense (Dense)               (None, 1)                 4097      \n",
      "                                                                 \n",
      "=================================================================\n",
      "Total params: 134,264,641\n",
      "Trainable params: 4,097\n",
      "Non-trainable params: 134,260,544\n",
      "_________________________________________________________________\n"
     ]
    }
   ],
   "source": [
    "model_user.summary()"
   ]
  },
  {
   "cell_type": "code",
   "execution_count": 29,
   "metadata": {
    "id": "XsV4bn6fTS60"
   },
   "outputs": [],
   "source": [
    "# Compile the model :\n"
   ]
  },
  {
   "cell_type": "code",
   "execution_count": 30,
   "metadata": {
    "id": "GoX8ZWX_Uc_v"
   },
   "outputs": [],
   "source": [
    "model_user.compile(optimizer='adam',loss='binary_crossentropy',metrics=['accuracy'])"
   ]
  },
  {
   "cell_type": "code",
   "execution_count": 31,
   "metadata": {
    "id": "LsvyDFTPU-jS"
   },
   "outputs": [],
   "source": [
    "# Prepare the training and Testing Data and do Pre-processing on it :\n",
    "from keras.preprocessing.image import ImageDataGenerator"
   ]
  },
  {
   "cell_type": "code",
   "execution_count": 32,
   "metadata": {
    "id": "urNAfWk9VIAD"
   },
   "outputs": [],
   "source": [
    "train_datagen = ImageDataGenerator(rescale=1./255)\n",
    "test_datagen = ImageDataGenerator(rescale=1./255)"
   ]
  },
  {
   "cell_type": "code",
   "execution_count": 33,
   "metadata": {
    "id": "lPjxuGmZV1uB"
   },
   "outputs": [
    {
     "name": "stdout",
     "output_type": "stream",
     "text": [
      "Found 20000 images belonging to 2 classes.\n"
     ]
    }
   ],
   "source": [
    "traing_data = train_datagen.flow_from_directory(directory='./dog_vs_cats_new/train',target_size=(224,224),batch_size=32,class_mode='binary')"
   ]
  },
  {
   "cell_type": "code",
   "execution_count": 34,
   "metadata": {},
   "outputs": [
    {
     "name": "stdout",
     "output_type": "stream",
     "text": [
      "Found 5000 images belonging to 2 classes.\n"
     ]
    }
   ],
   "source": [
    "testing_data = test_datagen.flow_from_directory(directory=\"./dog_vs_cats_new/test\",target_size=(224,224),batch_size=32,class_mode='binary')"
   ]
  },
  {
   "cell_type": "code",
   "execution_count": 35,
   "metadata": {},
   "outputs": [],
   "source": [
    "# Fit the model with data : Training "
   ]
  },
  {
   "cell_type": "code",
   "execution_count": null,
   "metadata": {},
   "outputs": [
    {
     "name": "stdout",
     "output_type": "stream",
     "text": [
      "Epoch 1/2\n",
      "230/500 [============>.................] - ETA: 32:07 - loss: 7.6233 - accuracy: 0.5035"
     ]
    }
   ],
   "source": [
    "history = model_user.fit(traing_data,epochs=2,steps_per_epoch=500,validation_data=testing_data,validation_steps=100,shuffle=False)"
   ]
  },
  {
   "cell_type": "code",
   "execution_count": null,
   "metadata": {},
   "outputs": [],
   "source": []
  }
 ],
 "metadata": {
  "accelerator": "GPU",
  "colab": {
   "gpuType": "T4",
   "provenance": []
  },
  "kernelspec": {
   "display_name": "Python 3 (ipykernel)",
   "language": "python",
   "name": "python3"
  },
  "language_info": {
   "codemirror_mode": {
    "name": "ipython",
    "version": 3
   },
   "file_extension": ".py",
   "mimetype": "text/x-python",
   "name": "python",
   "nbconvert_exporter": "python",
   "pygments_lexer": "ipython3",
   "version": "3.11.1"
  }
 },
 "nbformat": 4,
 "nbformat_minor": 4
}
